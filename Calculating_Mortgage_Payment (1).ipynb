{
  "nbformat": 4,
  "nbformat_minor": 0,
  "metadata": {
    "colab": {
      "name": "Calculating_Mortgage_Payment.ipynb",
      "provenance": []
    },
    "kernelspec": {
      "name": "python3",
      "display_name": "Python 3"
    },
    "language_info": {
      "name": "python"
    }
  },
  "cells": [
    {
      "cell_type": "code",
      "execution_count": null,
      "metadata": {
        "colab": {
          "base_uri": "https://localhost:8080/"
        },
        "id": "6TNg5k2uoFu3",
        "outputId": "ed8f2b3f-1526-4e63-c7b5-9cb37e93f4cc"
      },
      "outputs": [
        {
          "output_type": "stream",
          "name": "stdout",
          "text": [
            "1686\n"
          ]
        }
      ],
      "source": [
        "# 1)How much would the monthly payment be for a 30 year mortgage (30 * 12 = 360 month term) with a 400,000 dollar principal and a 3% APR (interest rate with fees included)? \n",
        "principal = 400000\n",
        "i_rate = (.03/12)\n",
        "n = 360\n",
        "numerator = i_rate * (1 + i_rate)**n\n",
        "denominator = (1 + i_rate)**n - 1\n",
        "emi = round(principal*(numerator/denominator))\n",
        "print(emi)\n"
      ]
    },
    {
      "cell_type": "code",
      "source": [
        "# 2) How much is the monthly payment if the interest rate is 6%? (use the same term length and principle)\n",
        "\n",
        "principal = 400000\n",
        "i_rate = (.06/12)\n",
        "n = 360\n",
        "numerator = i_rate * (1 + i_rate)**n\n",
        "denominator = (1 + i_rate)**n - 1\n",
        "emi = round(principal*(numerator/denominator))\n",
        "print(emi)"
      ],
      "metadata": {
        "colab": {
          "base_uri": "https://localhost:8080/"
        },
        "id": "yoC_Fz5nq0ib",
        "outputId": "edb2df8f-1853-46c1-8c47-7de07f43e318"
      },
      "execution_count": null,
      "outputs": [
        {
          "output_type": "stream",
          "name": "stdout",
          "text": [
            "2398\n"
          ]
        }
      ]
    }
  ]
}